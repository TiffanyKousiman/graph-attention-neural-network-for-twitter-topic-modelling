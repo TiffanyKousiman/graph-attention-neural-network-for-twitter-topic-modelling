{
 "cells": [
  {
   "cell_type": "code",
   "execution_count": 3,
   "metadata": {},
   "outputs": [],
   "source": [
    "import numpy as np\n",
    "import pandas as pd\n",
    "from fleiss import fleissKappa\n",
    "from statsmodels.stats.inter_rater import fleiss_kappa"
   ]
  },
  {
   "cell_type": "markdown",
   "metadata": {},
   "source": [
    "### Preprocess"
   ]
  },
  {
   "cell_type": "code",
   "execution_count": 143,
   "metadata": {},
   "outputs": [],
   "source": [
    "# import datasets of all three annotators\n",
    "tweets_deepak = pd.read_csv('tweets_deepak.csv')\n",
    "tweets_kishen = pd.read_csv('tweets_kishen.csv')\n",
    "tweets_tiffany = pd.read_csv('tweets_tiffany.csv')"
   ]
  },
  {
   "cell_type": "code",
   "execution_count": 144,
   "metadata": {},
   "outputs": [
    {
     "name": "stdout",
     "output_type": "stream",
     "text": [
      "(5000, 4)\n",
      "(5000, 4)\n",
      "(5000, 4)\n"
     ]
    }
   ],
   "source": [
    "# check dimensions\n",
    "print(tweets_deepak.shape)\n",
    "print(tweets_kishen.shape)\n",
    "print(tweets_tiffany.shape)"
   ]
  },
  {
   "cell_type": "code",
   "execution_count": 145,
   "metadata": {},
   "outputs": [
    {
     "data": {
      "text/html": [
       "<div>\n",
       "<style scoped>\n",
       "    .dataframe tbody tr th:only-of-type {\n",
       "        vertical-align: middle;\n",
       "    }\n",
       "\n",
       "    .dataframe tbody tr th {\n",
       "        vertical-align: top;\n",
       "    }\n",
       "\n",
       "    .dataframe thead th {\n",
       "        text-align: right;\n",
       "    }\n",
       "</style>\n",
       "<table border=\"1\" class=\"dataframe\">\n",
       "  <thead>\n",
       "    <tr style=\"text-align: right;\">\n",
       "      <th></th>\n",
       "      <th>tweet_id</th>\n",
       "      <th>tweet_text</th>\n",
       "      <th>year</th>\n",
       "      <th>isRelevant</th>\n",
       "    </tr>\n",
       "  </thead>\n",
       "  <tbody>\n",
       "  </tbody>\n",
       "</table>\n",
       "</div>"
      ],
      "text/plain": [
       "Empty DataFrame\n",
       "Columns: [tweet_id, tweet_text, year, isRelevant]\n",
       "Index: []"
      ]
     },
     "execution_count": 145,
     "metadata": {},
     "output_type": "execute_result"
    }
   ],
   "source": [
    "# check duplicated records\n",
    "tweets_kishen[tweets_kishen.duplicated('tweet_id', keep=False)]\n",
    "tweets_deepak[tweets_deepak.duplicated('tweet_id', keep=False)]\n",
    "tweets_tiffany[tweets_tiffany.duplicated('tweet_id', keep=False)]"
   ]
  },
  {
   "cell_type": "code",
   "execution_count": 146,
   "metadata": {},
   "outputs": [],
   "source": [
    "# concat the three datasets\n",
    "tweets_tiff_kishen = pd.merge(tweets_tiffany, tweets_kishen, on=\"tweet_id\", how='inner')\n",
    "tweets_all = pd.merge(tweets_tiff_kishen, tweets_deepak, on=\"tweet_id\", how='inner')\n",
    "tweets_all.rename(columns={'isRelevant':'tiffany', 'relevant_x':'kishen', 'relevant':'deepak'}, inplace=True)\n",
    "\n",
    "# create rating dataframe\n",
    "rating_df = tweets_all[['tiffany', 'kishen', 'deepak']].copy()\n",
    "rating_df['relevant'] = rating_df[['tiffany', 'kishen', 'deepak']].sum(axis=1) # sum along all columns for all rows\n",
    "rating_df['irrelevant'] = (3 - rating_df['relevant'])\n"
   ]
  },
  {
   "cell_type": "code",
   "execution_count": 147,
   "metadata": {},
   "outputs": [],
   "source": [
    "# create rating matrix of only the two count columns for relevant & irrelevant\n",
    "rating_mat = rating_df.iloc[:, -2:].to_numpy(dtype=np.int32)"
   ]
  },
  {
   "cell_type": "markdown",
   "metadata": {},
   "source": [
    "### Calculate Fleiss Kappa score"
   ]
  },
  {
   "cell_type": "code",
   "execution_count": 148,
   "metadata": {},
   "outputs": [
    {
     "data": {
      "text/plain": [
       "0.8497744837204804"
      ]
     },
     "execution_count": 148,
     "metadata": {},
     "output_type": "execute_result"
    }
   ],
   "source": [
    "# statsmodels\n",
    "fleiss_kappa(table=rating_mat, method='fleiss')"
   ]
  },
  {
   "cell_type": "code",
   "execution_count": 149,
   "metadata": {},
   "outputs": [
    {
     "name": "stdout",
     "output_type": "stream",
     "text": [
      "#raters =  3 , #subjects =  5000 , #categories =  2\n",
      "PA =  0.9257333333333371\n",
      "PE = 0.5056321422222223\n",
      "Fleiss' Kappa = 0.85\n"
     ]
    },
    {
     "data": {
      "text/plain": [
       "0.85"
      ]
     },
     "execution_count": 149,
     "metadata": {},
     "output_type": "execute_result"
    }
   ],
   "source": [
    "# fleiss code by skarumbaiah - https://github.com/Shamya/FleissKappa/tree/master\n",
    "fleissKappa(rate=rating_mat, n=3)"
   ]
  },
  {
   "cell_type": "markdown",
   "metadata": {},
   "source": [
    "### Export Unmatched Tweets"
   ]
  },
  {
   "cell_type": "code",
   "execution_count": 190,
   "metadata": {},
   "outputs": [],
   "source": [
    "unmatched = tweets_all[~((rating_df['tiffany'] == rating_df['kishen']) & (rating_df['kishen'] == rating_df['deepak']))]\n",
    "unmatched = unmatched[['tweet_id', 'tweet_text', 'year', 'tiffany', 'kishen', 'deepak']]\n",
    "unmatched['majority_rating'] = (unmatched[['tiffany', 'kishen', 'deepak']].sum(axis=1) > 1).astype(int)\n",
    "unmatched['final_rating'] = \"\"\n",
    "\n",
    "matched = tweets_all[((rating_df['tiffany'] == rating_df['kishen']) & (rating_df['kishen'] == rating_df['deepak']))]\n",
    "matched = matched[['tweet_id', 'tweet_text', 'year', 'tiffany']].rename(columns={'tiffany':'final_rating'})"
   ]
  },
  {
   "cell_type": "code",
   "execution_count": 191,
   "metadata": {},
   "outputs": [],
   "source": [
    "midpoint = len(unmatched) // 2\n",
    "kishen_df = unmatched.iloc[:midpoint]\n",
    "tiffany_df = unmatched.iloc[midpoint:]"
   ]
  },
  {
   "cell_type": "code",
   "execution_count": 192,
   "metadata": {},
   "outputs": [],
   "source": [
    "matched.to_csv('matched_tweets_4443.csv', index=False)\n",
    "unmatched.to_csv('unmatched_tweets_557.csv', index=False)\n",
    "tiffany_df.to_csv('unmatched_tweets_tiffany.csv', index=False)\n",
    "kishen_df.to_csv('unmatched_tweets_kishen.csv', index=False)"
   ]
  },
  {
   "cell_type": "markdown",
   "metadata": {},
   "source": [
    "### Summary Statistics"
   ]
  },
  {
   "cell_type": "markdown",
   "metadata": {},
   "source": [
    "1. Find out the number of tweets that are marked the same by all of us (how many of them are marked relevant and irrelevant)\n",
    "2. How many are marked relevant by majority?\n",
    "3. How many are marked irrelevant by the majority?"
   ]
  },
  {
   "cell_type": "code",
   "execution_count": 55,
   "metadata": {},
   "outputs": [
    {
     "name": "stdout",
     "output_type": "stream",
     "text": [
      "All agreed: 4443/5000 (88.86 %)\n",
      "tiffany  kishen  deepak  relevant  irrelevant\n",
      "1        1       1       3         0             2442\n",
      "0        0       0       0         3             2001\n",
      "dtype: int64\n"
     ]
    }
   ],
   "source": [
    "# number of tweets marked the same by all annotators\n",
    "all_agreed = rating_df[(rating_df['tiffany'] == rating_df['kishen']) & (rating_df['kishen'] == rating_df['deepak'])]\n",
    "print(f\"All agreed: {len(all_agreed)}/5000 ({len(all_agreed)/5000*100} %)\")\n",
    "print(all_agreed.value_counts())"
   ]
  },
  {
   "cell_type": "code",
   "execution_count": 75,
   "metadata": {},
   "outputs": [
    {
     "name": "stdout",
     "output_type": "stream",
     "text": [
      "Tweets with Discrepancy: 557/5000 (11.14 %)\n"
     ]
    },
    {
     "data": {
      "text/plain": [
       "tiffany  kishen  deepak  relevant  irrelevant\n",
       "1        1       0       2         1             305\n",
       "         0       1       2         1              89\n",
       "                 0       1         2              60\n",
       "0        0       1       1         2              58\n",
       "         1       0       1         2              26\n",
       "                 1       2         1              19\n",
       "dtype: int64"
      ]
     },
     "execution_count": 75,
     "metadata": {},
     "output_type": "execute_result"
    }
   ],
   "source": [
    "# number of tweets disagreed\n",
    "not_all_agreed = rating_df[~((rating_df['tiffany'] == rating_df['kishen']) & (rating_df['kishen'] == rating_df['deepak']))].reset_index(drop=True)\n",
    "print(f\"Tweets with Discrepancy: {len(not_all_agreed)}/5000 ({len(not_all_agreed)/5000*100} %)\")\n",
    "not_all_agreed.value_counts()"
   ]
  },
  {
   "cell_type": "code",
   "execution_count": 85,
   "metadata": {},
   "outputs": [
    {
     "name": "stdout",
     "output_type": "stream",
     "text": [
      "Number of tweets marked as 'relevant' by majority: 413\n",
      "Number of tweets marked as 'irrelevant' by majority: 144\n"
     ]
    }
   ],
   "source": [
    "not_all_agreed['rel_by_majority'] = (not_all_agreed['relevant'] > not_all_agreed['irrelevant']).astype(int)\n",
    "not_all_agreed['irrel_by_majority'] = (not_all_agreed['irrelevant'] > not_all_agreed['relevant']).astype(int)\n",
    "print(f\"Number of tweets marked as 'relevant' by majority: {sum(not_all_agreed['rel_by_majority'])}\")\n",
    "print(f\"Number of tweets marked as 'irrelevant' by majority: {sum(not_all_agreed['irrel_by_majority'])}\")"
   ]
  },
  {
   "cell_type": "code",
   "execution_count": 59,
   "metadata": {},
   "outputs": [
    {
     "data": {
      "text/html": [
       "<div>\n",
       "<style scoped>\n",
       "    .dataframe tbody tr th:only-of-type {\n",
       "        vertical-align: middle;\n",
       "    }\n",
       "\n",
       "    .dataframe tbody tr th {\n",
       "        vertical-align: top;\n",
       "    }\n",
       "\n",
       "    .dataframe thead th {\n",
       "        text-align: right;\n",
       "    }\n",
       "</style>\n",
       "<table border=\"1\" class=\"dataframe\">\n",
       "  <thead>\n",
       "    <tr style=\"text-align: right;\">\n",
       "      <th></th>\n",
       "      <th>tiffany</th>\n",
       "      <th>kishen</th>\n",
       "      <th>deepak</th>\n",
       "      <th>relevant</th>\n",
       "      <th>irrelevant</th>\n",
       "    </tr>\n",
       "  </thead>\n",
       "  <tbody>\n",
       "    <tr>\n",
       "      <th>8</th>\n",
       "      <td>0</td>\n",
       "      <td>0</td>\n",
       "      <td>1</td>\n",
       "      <td>1</td>\n",
       "      <td>2</td>\n",
       "    </tr>\n",
       "    <tr>\n",
       "      <th>16</th>\n",
       "      <td>0</td>\n",
       "      <td>0</td>\n",
       "      <td>1</td>\n",
       "      <td>1</td>\n",
       "      <td>2</td>\n",
       "    </tr>\n",
       "    <tr>\n",
       "      <th>59</th>\n",
       "      <td>0</td>\n",
       "      <td>0</td>\n",
       "      <td>1</td>\n",
       "      <td>1</td>\n",
       "      <td>2</td>\n",
       "    </tr>\n",
       "    <tr>\n",
       "      <th>66</th>\n",
       "      <td>0</td>\n",
       "      <td>0</td>\n",
       "      <td>1</td>\n",
       "      <td>1</td>\n",
       "      <td>2</td>\n",
       "    </tr>\n",
       "    <tr>\n",
       "      <th>73</th>\n",
       "      <td>0</td>\n",
       "      <td>0</td>\n",
       "      <td>1</td>\n",
       "      <td>1</td>\n",
       "      <td>2</td>\n",
       "    </tr>\n",
       "    <tr>\n",
       "      <th>...</th>\n",
       "      <td>...</td>\n",
       "      <td>...</td>\n",
       "      <td>...</td>\n",
       "      <td>...</td>\n",
       "      <td>...</td>\n",
       "    </tr>\n",
       "    <tr>\n",
       "      <th>4981</th>\n",
       "      <td>1</td>\n",
       "      <td>1</td>\n",
       "      <td>0</td>\n",
       "      <td>2</td>\n",
       "      <td>1</td>\n",
       "    </tr>\n",
       "    <tr>\n",
       "      <th>4987</th>\n",
       "      <td>1</td>\n",
       "      <td>1</td>\n",
       "      <td>0</td>\n",
       "      <td>2</td>\n",
       "      <td>1</td>\n",
       "    </tr>\n",
       "    <tr>\n",
       "      <th>4988</th>\n",
       "      <td>1</td>\n",
       "      <td>1</td>\n",
       "      <td>0</td>\n",
       "      <td>2</td>\n",
       "      <td>1</td>\n",
       "    </tr>\n",
       "    <tr>\n",
       "      <th>4991</th>\n",
       "      <td>1</td>\n",
       "      <td>1</td>\n",
       "      <td>0</td>\n",
       "      <td>2</td>\n",
       "      <td>1</td>\n",
       "    </tr>\n",
       "    <tr>\n",
       "      <th>4997</th>\n",
       "      <td>1</td>\n",
       "      <td>1</td>\n",
       "      <td>0</td>\n",
       "      <td>2</td>\n",
       "      <td>1</td>\n",
       "    </tr>\n",
       "  </tbody>\n",
       "</table>\n",
       "<p>363 rows × 5 columns</p>\n",
       "</div>"
      ],
      "text/plain": [
       "      tiffany  kishen  deepak  relevant  irrelevant\n",
       "8           0       0       1         1           2\n",
       "16          0       0       1         1           2\n",
       "59          0       0       1         1           2\n",
       "66          0       0       1         1           2\n",
       "73          0       0       1         1           2\n",
       "...       ...     ...     ...       ...         ...\n",
       "4981        1       1       0         2           1\n",
       "4987        1       1       0         2           1\n",
       "4988        1       1       0         2           1\n",
       "4991        1       1       0         2           1\n",
       "4997        1       1       0         2           1\n",
       "\n",
       "[363 rows x 5 columns]"
      ]
     },
     "execution_count": 59,
     "metadata": {},
     "output_type": "execute_result"
    }
   ],
   "source": [
    "not_all_agreed[(not_all_agreed['tiffany'] == not_all_agreed['kishen'])]"
   ]
  },
  {
   "cell_type": "code",
   "execution_count": 61,
   "metadata": {},
   "outputs": [
    {
     "data": {
      "text/html": [
       "<div>\n",
       "<style scoped>\n",
       "    .dataframe tbody tr th:only-of-type {\n",
       "        vertical-align: middle;\n",
       "    }\n",
       "\n",
       "    .dataframe tbody tr th {\n",
       "        vertical-align: top;\n",
       "    }\n",
       "\n",
       "    .dataframe thead th {\n",
       "        text-align: right;\n",
       "    }\n",
       "</style>\n",
       "<table border=\"1\" class=\"dataframe\">\n",
       "  <thead>\n",
       "    <tr style=\"text-align: right;\">\n",
       "      <th></th>\n",
       "      <th>tiffany</th>\n",
       "      <th>kishen</th>\n",
       "      <th>deepak</th>\n",
       "      <th>relevant</th>\n",
       "      <th>irrelevant</th>\n",
       "    </tr>\n",
       "  </thead>\n",
       "  <tbody>\n",
       "    <tr>\n",
       "      <th>67</th>\n",
       "      <td>0</td>\n",
       "      <td>1</td>\n",
       "      <td>0</td>\n",
       "      <td>1</td>\n",
       "      <td>2</td>\n",
       "    </tr>\n",
       "    <tr>\n",
       "      <th>100</th>\n",
       "      <td>0</td>\n",
       "      <td>1</td>\n",
       "      <td>0</td>\n",
       "      <td>1</td>\n",
       "      <td>2</td>\n",
       "    </tr>\n",
       "    <tr>\n",
       "      <th>789</th>\n",
       "      <td>1</td>\n",
       "      <td>0</td>\n",
       "      <td>1</td>\n",
       "      <td>2</td>\n",
       "      <td>1</td>\n",
       "    </tr>\n",
       "    <tr>\n",
       "      <th>797</th>\n",
       "      <td>1</td>\n",
       "      <td>0</td>\n",
       "      <td>1</td>\n",
       "      <td>2</td>\n",
       "      <td>1</td>\n",
       "    </tr>\n",
       "    <tr>\n",
       "      <th>933</th>\n",
       "      <td>0</td>\n",
       "      <td>1</td>\n",
       "      <td>0</td>\n",
       "      <td>1</td>\n",
       "      <td>2</td>\n",
       "    </tr>\n",
       "    <tr>\n",
       "      <th>...</th>\n",
       "      <td>...</td>\n",
       "      <td>...</td>\n",
       "      <td>...</td>\n",
       "      <td>...</td>\n",
       "      <td>...</td>\n",
       "    </tr>\n",
       "    <tr>\n",
       "      <th>4865</th>\n",
       "      <td>1</td>\n",
       "      <td>0</td>\n",
       "      <td>1</td>\n",
       "      <td>2</td>\n",
       "      <td>1</td>\n",
       "    </tr>\n",
       "    <tr>\n",
       "      <th>4942</th>\n",
       "      <td>1</td>\n",
       "      <td>0</td>\n",
       "      <td>1</td>\n",
       "      <td>2</td>\n",
       "      <td>1</td>\n",
       "    </tr>\n",
       "    <tr>\n",
       "      <th>4962</th>\n",
       "      <td>1</td>\n",
       "      <td>0</td>\n",
       "      <td>1</td>\n",
       "      <td>2</td>\n",
       "      <td>1</td>\n",
       "    </tr>\n",
       "    <tr>\n",
       "      <th>4975</th>\n",
       "      <td>1</td>\n",
       "      <td>0</td>\n",
       "      <td>1</td>\n",
       "      <td>2</td>\n",
       "      <td>1</td>\n",
       "    </tr>\n",
       "    <tr>\n",
       "      <th>4990</th>\n",
       "      <td>1</td>\n",
       "      <td>0</td>\n",
       "      <td>1</td>\n",
       "      <td>2</td>\n",
       "      <td>1</td>\n",
       "    </tr>\n",
       "  </tbody>\n",
       "</table>\n",
       "<p>115 rows × 5 columns</p>\n",
       "</div>"
      ],
      "text/plain": [
       "      tiffany  kishen  deepak  relevant  irrelevant\n",
       "67          0       1       0         1           2\n",
       "100         0       1       0         1           2\n",
       "789         1       0       1         2           1\n",
       "797         1       0       1         2           1\n",
       "933         0       1       0         1           2\n",
       "...       ...     ...     ...       ...         ...\n",
       "4865        1       0       1         2           1\n",
       "4942        1       0       1         2           1\n",
       "4962        1       0       1         2           1\n",
       "4975        1       0       1         2           1\n",
       "4990        1       0       1         2           1\n",
       "\n",
       "[115 rows x 5 columns]"
      ]
     },
     "execution_count": 61,
     "metadata": {},
     "output_type": "execute_result"
    }
   ],
   "source": [
    "not_all_agreed[(not_all_agreed['tiffany'] == not_all_agreed['deepak'])]"
   ]
  },
  {
   "cell_type": "code",
   "execution_count": 62,
   "metadata": {},
   "outputs": [
    {
     "data": {
      "text/html": [
       "<div>\n",
       "<style scoped>\n",
       "    .dataframe tbody tr th:only-of-type {\n",
       "        vertical-align: middle;\n",
       "    }\n",
       "\n",
       "    .dataframe tbody tr th {\n",
       "        vertical-align: top;\n",
       "    }\n",
       "\n",
       "    .dataframe thead th {\n",
       "        text-align: right;\n",
       "    }\n",
       "</style>\n",
       "<table border=\"1\" class=\"dataframe\">\n",
       "  <thead>\n",
       "    <tr style=\"text-align: right;\">\n",
       "      <th></th>\n",
       "      <th>tiffany</th>\n",
       "      <th>kishen</th>\n",
       "      <th>deepak</th>\n",
       "      <th>relevant</th>\n",
       "      <th>irrelevant</th>\n",
       "    </tr>\n",
       "  </thead>\n",
       "  <tbody>\n",
       "    <tr>\n",
       "      <th>13</th>\n",
       "      <td>0</td>\n",
       "      <td>1</td>\n",
       "      <td>1</td>\n",
       "      <td>2</td>\n",
       "      <td>1</td>\n",
       "    </tr>\n",
       "    <tr>\n",
       "      <th>191</th>\n",
       "      <td>0</td>\n",
       "      <td>1</td>\n",
       "      <td>1</td>\n",
       "      <td>2</td>\n",
       "      <td>1</td>\n",
       "    </tr>\n",
       "    <tr>\n",
       "      <th>215</th>\n",
       "      <td>0</td>\n",
       "      <td>1</td>\n",
       "      <td>1</td>\n",
       "      <td>2</td>\n",
       "      <td>1</td>\n",
       "    </tr>\n",
       "    <tr>\n",
       "      <th>1175</th>\n",
       "      <td>0</td>\n",
       "      <td>1</td>\n",
       "      <td>1</td>\n",
       "      <td>2</td>\n",
       "      <td>1</td>\n",
       "    </tr>\n",
       "    <tr>\n",
       "      <th>1182</th>\n",
       "      <td>0</td>\n",
       "      <td>1</td>\n",
       "      <td>1</td>\n",
       "      <td>2</td>\n",
       "      <td>1</td>\n",
       "    </tr>\n",
       "    <tr>\n",
       "      <th>...</th>\n",
       "      <td>...</td>\n",
       "      <td>...</td>\n",
       "      <td>...</td>\n",
       "      <td>...</td>\n",
       "      <td>...</td>\n",
       "    </tr>\n",
       "    <tr>\n",
       "      <th>4963</th>\n",
       "      <td>1</td>\n",
       "      <td>0</td>\n",
       "      <td>0</td>\n",
       "      <td>1</td>\n",
       "      <td>2</td>\n",
       "    </tr>\n",
       "    <tr>\n",
       "      <th>4983</th>\n",
       "      <td>1</td>\n",
       "      <td>0</td>\n",
       "      <td>0</td>\n",
       "      <td>1</td>\n",
       "      <td>2</td>\n",
       "    </tr>\n",
       "    <tr>\n",
       "      <th>4984</th>\n",
       "      <td>1</td>\n",
       "      <td>0</td>\n",
       "      <td>0</td>\n",
       "      <td>1</td>\n",
       "      <td>2</td>\n",
       "    </tr>\n",
       "    <tr>\n",
       "      <th>4989</th>\n",
       "      <td>1</td>\n",
       "      <td>0</td>\n",
       "      <td>0</td>\n",
       "      <td>1</td>\n",
       "      <td>2</td>\n",
       "    </tr>\n",
       "    <tr>\n",
       "      <th>4999</th>\n",
       "      <td>1</td>\n",
       "      <td>0</td>\n",
       "      <td>0</td>\n",
       "      <td>1</td>\n",
       "      <td>2</td>\n",
       "    </tr>\n",
       "  </tbody>\n",
       "</table>\n",
       "<p>79 rows × 5 columns</p>\n",
       "</div>"
      ],
      "text/plain": [
       "      tiffany  kishen  deepak  relevant  irrelevant\n",
       "13          0       1       1         2           1\n",
       "191         0       1       1         2           1\n",
       "215         0       1       1         2           1\n",
       "1175        0       1       1         2           1\n",
       "1182        0       1       1         2           1\n",
       "...       ...     ...     ...       ...         ...\n",
       "4963        1       0       0         1           2\n",
       "4983        1       0       0         1           2\n",
       "4984        1       0       0         1           2\n",
       "4989        1       0       0         1           2\n",
       "4999        1       0       0         1           2\n",
       "\n",
       "[79 rows x 5 columns]"
      ]
     },
     "execution_count": 62,
     "metadata": {},
     "output_type": "execute_result"
    }
   ],
   "source": [
    "not_all_agreed[(not_all_agreed['kishen'] == not_all_agreed['deepak'])]"
   ]
  },
  {
   "cell_type": "markdown",
   "metadata": {},
   "source": [
    "#### After Final Checks on 557 Unagreed tweets by Deepak"
   ]
  },
  {
   "cell_type": "code",
   "execution_count": 4,
   "metadata": {},
   "outputs": [
    {
     "name": "stderr",
     "output_type": "stream",
     "text": [
      "C:\\Users\\tiffa\\AppData\\Local\\Temp\\ipykernel_17652\\3487871360.py:3: SettingWithCopyWarning: \n",
      "A value is trying to be set on a copy of a slice from a DataFrame\n",
      "\n",
      "See the caveats in the documentation: https://pandas.pydata.org/pandas-docs/stable/user_guide/indexing.html#returning-a-view-versus-a-copy\n",
      "  unmatched_tweets.rename(columns={'majority_rating':'final_rating'}, inplace=True)\n"
     ]
    }
   ],
   "source": [
    "unmatched_tweets_reannotated = pd.read_csv('../../Kishen_Tiffany/unmatched_tweets_557.csv')\n",
    "unmatched_tweets = unmatched_tweets_reannotated[[\"tweet_id\", \"tweet_text\", \"year\", \"majority_rating\"]]\n",
    "unmatched_tweets.rename(columns={'majority_rating':'final_rating'}, inplace=True)\n",
    "\n",
    "matched_tweets = pd.read_csv('matched_tweets_4443.csv')"
   ]
  },
  {
   "cell_type": "code",
   "execution_count": 5,
   "metadata": {},
   "outputs": [
    {
     "data": {
      "text/plain": [
       "294"
      ]
     },
     "execution_count": 5,
     "metadata": {},
     "output_type": "execute_result"
    }
   ],
   "source": [
    "unmatched_tweets_reannotated.majority_rating.sum()"
   ]
  },
  {
   "cell_type": "code",
   "execution_count": 6,
   "metadata": {},
   "outputs": [],
   "source": [
    "# unmatched_tweets.to_csv('unmatched_tweets_557_final.csv', index=False)"
   ]
  },
  {
   "cell_type": "code",
   "execution_count": 7,
   "metadata": {},
   "outputs": [],
   "source": [
    "rel_unmatched = unmatched_tweets[unmatched_tweets.final_rating == 1].iloc[:, :-1]\n",
    "rel_matched = matched_tweets[matched_tweets.final_rating == 1].iloc[:, :-1]"
   ]
  },
  {
   "cell_type": "code",
   "execution_count": 8,
   "metadata": {},
   "outputs": [
    {
     "data": {
      "text/plain": [
       "2736"
      ]
     },
     "execution_count": 8,
     "metadata": {},
     "output_type": "execute_result"
    }
   ],
   "source": [
    "len(rel_unmatched) + len(rel_matched)"
   ]
  },
  {
   "cell_type": "code",
   "execution_count": 9,
   "metadata": {},
   "outputs": [
    {
     "data": {
      "text/html": [
       "<div>\n",
       "<style scoped>\n",
       "    .dataframe tbody tr th:only-of-type {\n",
       "        vertical-align: middle;\n",
       "    }\n",
       "\n",
       "    .dataframe tbody tr th {\n",
       "        vertical-align: top;\n",
       "    }\n",
       "\n",
       "    .dataframe thead th {\n",
       "        text-align: right;\n",
       "    }\n",
       "</style>\n",
       "<table border=\"1\" class=\"dataframe\">\n",
       "  <thead>\n",
       "    <tr style=\"text-align: right;\">\n",
       "      <th></th>\n",
       "      <th>tweet_id</th>\n",
       "      <th>tweet_text</th>\n",
       "      <th>year</th>\n",
       "    </tr>\n",
       "  </thead>\n",
       "  <tbody>\n",
       "    <tr>\n",
       "      <th>15</th>\n",
       "      <td>678244265659604992</td>\n",
       "      <td>thickness dependence and percolation scaling o...</td>\n",
       "      <td>2015</td>\n",
       "    </tr>\n",
       "    <tr>\n",
       "      <th>16</th>\n",
       "      <td>1299536748108804096</td>\n",
       "      <td>the common booster cores liquid hydrogen loadi...</td>\n",
       "      <td>2020</td>\n",
       "    </tr>\n",
       "    <tr>\n",
       "      <th>17</th>\n",
       "      <td>1333678694318018561</td>\n",
       "      <td>talk about taking one for the team there is pr...</td>\n",
       "      <td>2020</td>\n",
       "    </tr>\n",
       "    <tr>\n",
       "      <th>18</th>\n",
       "      <td>1341750180736065536</td>\n",
       "      <td>why hydrogen should hook up with nuclear</td>\n",
       "      <td>2020</td>\n",
       "    </tr>\n",
       "    <tr>\n",
       "      <th>19</th>\n",
       "      <td>1341990994015825922</td>\n",
       "      <td>plug stock why hydrogen play plug power is cli...</td>\n",
       "      <td>2020</td>\n",
       "    </tr>\n",
       "    <tr>\n",
       "      <th>...</th>\n",
       "      <td>...</td>\n",
       "      <td>...</td>\n",
       "      <td>...</td>\n",
       "    </tr>\n",
       "    <tr>\n",
       "      <th>543</th>\n",
       "      <td>1064418282067771392</td>\n",
       "      <td>high purity hydrogen gas generator stable v w ...</td>\n",
       "      <td>2018</td>\n",
       "    </tr>\n",
       "    <tr>\n",
       "      <th>545</th>\n",
       "      <td>699903784525254656</td>\n",
       "      <td>new technique for turning sunlight into hydrog...</td>\n",
       "      <td>2016</td>\n",
       "    </tr>\n",
       "    <tr>\n",
       "      <th>553</th>\n",
       "      <td>1580906325403312129</td>\n",
       "      <td>📣 will invest € billion in france learn more a...</td>\n",
       "      <td>2022</td>\n",
       "    </tr>\n",
       "    <tr>\n",
       "      <th>554</th>\n",
       "      <td>978094796588961793</td>\n",
       "      <td>our industry model is completely backwards ups...</td>\n",
       "      <td>2018</td>\n",
       "    </tr>\n",
       "    <tr>\n",
       "      <th>555</th>\n",
       "      <td>1519373194938884096</td>\n",
       "      <td>meetings with regional and international leade...</td>\n",
       "      <td>2022</td>\n",
       "    </tr>\n",
       "  </tbody>\n",
       "</table>\n",
       "<p>294 rows × 3 columns</p>\n",
       "</div>"
      ],
      "text/plain": [
       "                tweet_id                                         tweet_text  \\\n",
       "15    678244265659604992  thickness dependence and percolation scaling o...   \n",
       "16   1299536748108804096  the common booster cores liquid hydrogen loadi...   \n",
       "17   1333678694318018561  talk about taking one for the team there is pr...   \n",
       "18   1341750180736065536           why hydrogen should hook up with nuclear   \n",
       "19   1341990994015825922  plug stock why hydrogen play plug power is cli...   \n",
       "..                   ...                                                ...   \n",
       "543  1064418282067771392  high purity hydrogen gas generator stable v w ...   \n",
       "545   699903784525254656  new technique for turning sunlight into hydrog...   \n",
       "553  1580906325403312129  📣 will invest € billion in france learn more a...   \n",
       "554   978094796588961793  our industry model is completely backwards ups...   \n",
       "555  1519373194938884096  meetings with regional and international leade...   \n",
       "\n",
       "     year  \n",
       "15   2015  \n",
       "16   2020  \n",
       "17   2020  \n",
       "18   2020  \n",
       "19   2020  \n",
       "..    ...  \n",
       "543  2018  \n",
       "545  2016  \n",
       "553  2022  \n",
       "554  2018  \n",
       "555  2022  \n",
       "\n",
       "[294 rows x 3 columns]"
      ]
     },
     "execution_count": 9,
     "metadata": {},
     "output_type": "execute_result"
    }
   ],
   "source": [
    "rel_unmatched"
   ]
  },
  {
   "cell_type": "code",
   "execution_count": 10,
   "metadata": {},
   "outputs": [
    {
     "data": {
      "text/html": [
       "<div>\n",
       "<style scoped>\n",
       "    .dataframe tbody tr th:only-of-type {\n",
       "        vertical-align: middle;\n",
       "    }\n",
       "\n",
       "    .dataframe tbody tr th {\n",
       "        vertical-align: top;\n",
       "    }\n",
       "\n",
       "    .dataframe thead th {\n",
       "        text-align: right;\n",
       "    }\n",
       "</style>\n",
       "<table border=\"1\" class=\"dataframe\">\n",
       "  <thead>\n",
       "    <tr style=\"text-align: right;\">\n",
       "      <th></th>\n",
       "      <th>tweet_id</th>\n",
       "      <th>tweet_text</th>\n",
       "      <th>year</th>\n",
       "    </tr>\n",
       "  </thead>\n",
       "  <tbody>\n",
       "    <tr>\n",
       "      <th>1249</th>\n",
       "      <td>688636812869369856</td>\n",
       "      <td>solar to hydrogen homes no more lpg be sure to...</td>\n",
       "      <td>2016</td>\n",
       "    </tr>\n",
       "    <tr>\n",
       "      <th>1291</th>\n",
       "      <td>1316724254357041152</td>\n",
       "      <td>when hydrogen made from water electrolysis is ...</td>\n",
       "      <td>2020</td>\n",
       "    </tr>\n",
       "    <tr>\n",
       "      <th>1877</th>\n",
       "      <td>657892234281537536</td>\n",
       "      <td>동영상 space engineers update hydrogen thrusters ...</td>\n",
       "      <td>2015</td>\n",
       "    </tr>\n",
       "    <tr>\n",
       "      <th>1878</th>\n",
       "      <td>570260992715841537</td>\n",
       "      <td>greet the flying bum aircrafts aerospace hydro...</td>\n",
       "      <td>2015</td>\n",
       "    </tr>\n",
       "    <tr>\n",
       "      <th>1879</th>\n",
       "      <td>617365883695038464</td>\n",
       "      <td>bmw reveals hydrogen stealth car can go miles ...</td>\n",
       "      <td>2015</td>\n",
       "    </tr>\n",
       "    <tr>\n",
       "      <th>...</th>\n",
       "      <td>...</td>\n",
       "      <td>...</td>\n",
       "      <td>...</td>\n",
       "    </tr>\n",
       "    <tr>\n",
       "      <th>4436</th>\n",
       "      <td>1525901933332111363</td>\n",
       "      <td>kbr named technical advisor for sk hydrogen de...</td>\n",
       "      <td>2022</td>\n",
       "    </tr>\n",
       "    <tr>\n",
       "      <th>4437</th>\n",
       "      <td>976878917792526338</td>\n",
       "      <td>watch ecofriendly road sweeper added to aberde...</td>\n",
       "      <td>2018</td>\n",
       "    </tr>\n",
       "    <tr>\n",
       "      <th>4439</th>\n",
       "      <td>973143055992803328</td>\n",
       "      <td>icymi hydrogen semi maker nikola to build asse...</td>\n",
       "      <td>2018</td>\n",
       "    </tr>\n",
       "    <tr>\n",
       "      <th>4441</th>\n",
       "      <td>1506976879634489347</td>\n",
       "      <td>what is going on with these hydrogen pushes ov...</td>\n",
       "      <td>2022</td>\n",
       "    </tr>\n",
       "    <tr>\n",
       "      <th>4442</th>\n",
       "      <td>1544670076548390913</td>\n",
       "      <td>“the dpa is not a catchall or longterm solutio...</td>\n",
       "      <td>2022</td>\n",
       "    </tr>\n",
       "  </tbody>\n",
       "</table>\n",
       "<p>2442 rows × 3 columns</p>\n",
       "</div>"
      ],
      "text/plain": [
       "                 tweet_id                                         tweet_text  \\\n",
       "1249   688636812869369856  solar to hydrogen homes no more lpg be sure to...   \n",
       "1291  1316724254357041152  when hydrogen made from water electrolysis is ...   \n",
       "1877   657892234281537536  동영상 space engineers update hydrogen thrusters ...   \n",
       "1878   570260992715841537  greet the flying bum aircrafts aerospace hydro...   \n",
       "1879   617365883695038464  bmw reveals hydrogen stealth car can go miles ...   \n",
       "...                   ...                                                ...   \n",
       "4436  1525901933332111363  kbr named technical advisor for sk hydrogen de...   \n",
       "4437   976878917792526338  watch ecofriendly road sweeper added to aberde...   \n",
       "4439   973143055992803328  icymi hydrogen semi maker nikola to build asse...   \n",
       "4441  1506976879634489347  what is going on with these hydrogen pushes ov...   \n",
       "4442  1544670076548390913  “the dpa is not a catchall or longterm solutio...   \n",
       "\n",
       "      year  \n",
       "1249  2016  \n",
       "1291  2020  \n",
       "1877  2015  \n",
       "1878  2015  \n",
       "1879  2015  \n",
       "...    ...  \n",
       "4436  2022  \n",
       "4437  2018  \n",
       "4439  2018  \n",
       "4441  2022  \n",
       "4442  2022  \n",
       "\n",
       "[2442 rows x 3 columns]"
      ]
     },
     "execution_count": 10,
     "metadata": {},
     "output_type": "execute_result"
    }
   ],
   "source": [
    "rel_matched"
   ]
  },
  {
   "cell_type": "code",
   "execution_count": 11,
   "metadata": {},
   "outputs": [],
   "source": [
    "final_relevant_tweets = pd.concat([rel_unmatched, rel_matched], ignore_index=True, axis=0)"
   ]
  },
  {
   "cell_type": "code",
   "execution_count": 12,
   "metadata": {},
   "outputs": [],
   "source": [
    "final_relevant_tweets.to_csv(\"../final_relevant_tweets.csv\", index=False)"
   ]
  }
 ],
 "metadata": {
  "kernelspec": {
   "display_name": "base",
   "language": "python",
   "name": "python3"
  },
  "language_info": {
   "codemirror_mode": {
    "name": "ipython",
    "version": 3
   },
   "file_extension": ".py",
   "mimetype": "text/x-python",
   "name": "python",
   "nbconvert_exporter": "python",
   "pygments_lexer": "ipython3",
   "version": "3.10.9"
  },
  "orig_nbformat": 4
 },
 "nbformat": 4,
 "nbformat_minor": 2
}
