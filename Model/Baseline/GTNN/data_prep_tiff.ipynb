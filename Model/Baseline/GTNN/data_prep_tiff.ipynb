{
 "cells": [
  {
   "cell_type": "code",
   "execution_count": 22,
   "metadata": {},
   "outputs": [],
   "source": [
    "import pickle as pkl\n",
    "import numpy as np\n",
    "dataset_name = 'pl'\n",
    "input_path = '../../../Datasets/model_input_data/'"
   ]
  },
  {
   "cell_type": "code",
   "execution_count": 37,
   "metadata": {},
   "outputs": [],
   "source": [
    "def doc_preprocessing(doc):\n",
    "    \"\"\"word count normalisation per document\"\"\"\n",
    "    doc_preprocessed = []\n",
    "    for row in doc:\n",
    "        max_row = np.log(1 + np.max(row))\n",
    "        doc_preprocessed.append(np.log(1 + row) / max_row)\n",
    "\n",
    "    return np.asarray(doc_preprocessed)\n",
    "\n",
    "def generate_symmetric_adjacency_matrix(adjacency_matrix):\n",
    "    \"\"\"create symmetric adjacency matrix\"\"\"\n",
    "    adjacency_matrix_symm = np.zeros((len(adjacency_matrix), len(adjacency_matrix)))\n",
    "    for row_idx in range(len(adjacency_matrix)):\n",
    "        for col_idx in range(len(adjacency_matrix)):\n",
    "            if adjacency_matrix[row_idx, col_idx] == 1:\n",
    "                adjacency_matrix_symm[row_idx, col_idx] = 1\n",
    "                adjacency_matrix_symm[col_idx, row_idx] = 1\n",
    "            if row_idx == col_idx:\n",
    "                adjacency_matrix_symm[row_idx, col_idx] = 1\n",
    "\n",
    "    return adjacency_matrix_symm \n",
    "\n",
    "def sgc_precompute(adj, degree):\n",
    "    adj_degree = adj\n",
    "    for i in range(degree-1):\n",
    "        adj_degree = np.dot(adj, adj_degree)\n",
    "    return adj_degree\n",
    "\n",
    "def normalize_adj(adj):\n",
    "    \"\"\"Symmetrically normalize adjacency matrix.\"\"\"\n",
    "    # adj = sp.coo_matrix(adj)\n",
    "    rowsum = np.array(adj.sum(1))  # D-degree matrix\n",
    "    d_inv_sqrt = np.power(rowsum, -0.5).flatten()\n",
    "    d_inv_sqrt[np.isinf(d_inv_sqrt)] = 0.\n",
    "    d_mat_inv_sqrt = np.diag(d_inv_sqrt)\n",
    "    return np.dot(np.dot(adj, d_mat_inv_sqrt).transpose(), d_mat_inv_sqrt)\n",
    "\n",
    "def adj_to_bias(adj, sizes, nhood=1):\n",
    "    nb_graphs = adj.shape[0]\n",
    "    mt = np.empty(adj.shape)\n",
    "    for g in range(nb_graphs):\n",
    "        mt[g] = np.eye(adj.shape[1])\n",
    "        for _ in range(nhood):\n",
    "            mt[g] = np.matmul(mt[g], (adj[g] + np.eye(adj.shape[1])))\n",
    "        for i in range(sizes[g]):\n",
    "            for j in range(sizes[g]):\n",
    "                if mt[g][i][j] > 0.0:\n",
    "                    mt[g][i][j] = 1.0\n",
    "    return -1e9 * (1.0 - mt)\n"
   ]
  },
  {
   "cell_type": "code",
   "execution_count": 8,
   "metadata": {},
   "outputs": [],
   "source": [
    "context_arr = np.loadtxt('./cora/' + dataset_name + '/content.txt')"
   ]
  },
  {
   "cell_type": "code",
   "execution_count": 9,
   "metadata": {},
   "outputs": [
    {
     "data": {
      "text/plain": [
       "(1552, 4105)"
      ]
     },
     "execution_count": 9,
     "metadata": {},
     "output_type": "execute_result"
    }
   ],
   "source": [
    "context_arr.shape"
   ]
  },
  {
   "cell_type": "code",
   "execution_count": 12,
   "metadata": {},
   "outputs": [],
   "source": [
    "doc = doc_preprocessing(np.loadtxt('./cora/' + dataset_name + '/content.txt'))\n",
    "num_doc = len(doc)\n",
    "label = np.loadtxt('./cora/' + dataset_name + '/label.txt')\n",
    "adjacency_matrix = generate_symmetric_adjacency_matrix(np.loadtxt('./cora/' + dataset_name + '/adjacency_matrix.txt'))"
   ]
  },
  {
   "cell_type": "code",
   "execution_count": 18,
   "metadata": {},
   "outputs": [],
   "source": [
    "adjacency_matrix = normalize_adj(adjacency_matrix)"
   ]
  },
  {
   "cell_type": "code",
   "execution_count": 30,
   "metadata": {},
   "outputs": [],
   "source": [
    "with open(\"./cora/ind.{}.ppmi\".format(dataset_name), 'rb') as f:\n",
    "    pmi = pkl.load(f)\n",
    "\n",
    "pmi = normalize_adj(pmi.toarray())"
   ]
  },
  {
   "cell_type": "code",
   "execution_count": 32,
   "metadata": {},
   "outputs": [
    {
     "data": {
      "text/plain": [
       "(4105, 4105)"
      ]
     },
     "execution_count": 32,
     "metadata": {},
     "output_type": "execute_result"
    }
   ],
   "source": [
    "pmi.shape"
   ]
  },
  {
   "cell_type": "code",
   "execution_count": 31,
   "metadata": {},
   "outputs": [
    {
     "data": {
      "text/plain": [
       "array([[0.        , 0.0125059 , 0.01123539, ..., 0.        , 0.        ,\n",
       "        0.        ],\n",
       "       [0.0125059 , 0.        , 0.01159017, ..., 0.        , 0.        ,\n",
       "        0.        ],\n",
       "       [0.01123539, 0.01159017, 0.        , ..., 0.        , 0.        ,\n",
       "        0.        ],\n",
       "       ...,\n",
       "       [0.        , 0.        , 0.        , ..., 0.        , 0.        ,\n",
       "        0.        ],\n",
       "       [0.        , 0.        , 0.        , ..., 0.        , 0.        ,\n",
       "        0.        ],\n",
       "       [0.        , 0.        , 0.        , ..., 0.        , 0.        ,\n",
       "        0.        ]])"
      ]
     },
     "execution_count": 31,
     "metadata": {},
     "output_type": "execute_result"
    }
   ],
   "source": [
    "pmi"
   ]
  },
  {
   "cell_type": "code",
   "execution_count": 19,
   "metadata": {},
   "outputs": [
    {
     "data": {
      "text/plain": [
       "array([[0.25      , 0.        , 0.        , ..., 0.        , 0.        ,\n",
       "        0.        ],\n",
       "       [0.        , 0.08333333, 0.        , ..., 0.        , 0.        ,\n",
       "        0.        ],\n",
       "       [0.        , 0.        , 0.04347826, ..., 0.        , 0.        ,\n",
       "        0.        ],\n",
       "       ...,\n",
       "       [0.        , 0.        , 0.        , ..., 0.16666667, 0.        ,\n",
       "        0.        ],\n",
       "       [0.        , 0.        , 0.        , ..., 0.        , 0.125     ,\n",
       "        0.        ],\n",
       "       [0.        , 0.        , 0.        , ..., 0.        , 0.        ,\n",
       "        0.5       ]])"
      ]
     },
     "execution_count": 19,
     "metadata": {},
     "output_type": "execute_result"
    }
   ],
   "source": [
    "adjacency_matrix"
   ]
  },
  {
   "cell_type": "code",
   "execution_count": 14,
   "metadata": {},
   "outputs": [
    {
     "data": {
      "text/plain": [
       "array([[1., 0., 0., ..., 0., 0., 0.],\n",
       "       [0., 1., 0., ..., 0., 0., 0.],\n",
       "       [0., 0., 1., ..., 0., 0., 0.],\n",
       "       ...,\n",
       "       [0., 0., 0., ..., 1., 0., 0.],\n",
       "       [0., 0., 0., ..., 0., 1., 0.],\n",
       "       [0., 0., 0., ..., 0., 0., 1.]])"
      ]
     },
     "execution_count": 14,
     "metadata": {},
     "output_type": "execute_result"
    }
   ],
   "source": [
    "adjacency_matrix"
   ]
  },
  {
   "cell_type": "code",
   "execution_count": 13,
   "metadata": {},
   "outputs": [
    {
     "data": {
      "text/plain": [
       "array([[0., 0., 0., ..., 0., 0., 0.],\n",
       "       [0., 0., 0., ..., 0., 0., 0.],\n",
       "       [0., 0., 0., ..., 0., 0., 0.],\n",
       "       ...,\n",
       "       [0., 0., 0., ..., 0., 0., 0.],\n",
       "       [0., 0., 0., ..., 0., 0., 0.],\n",
       "       [0., 0., 0., ..., 0., 0., 0.]])"
      ]
     },
     "execution_count": 13,
     "metadata": {},
     "output_type": "execute_result"
    }
   ],
   "source": [
    "np.loadtxt('./cora/' + dataset_name + '/adjacency_matrix.txt')"
   ]
  },
  {
   "cell_type": "code",
   "execution_count": null,
   "metadata": {},
   "outputs": [],
   "source": []
  },
  {
   "cell_type": "code",
   "execution_count": 31,
   "metadata": {},
   "outputs": [],
   "source": [
    "doc = np.loadtxt(input_path + 'content_count.txt')"
   ]
  },
  {
   "cell_type": "code",
   "execution_count": 30,
   "metadata": {},
   "outputs": [
    {
     "data": {
      "text/plain": [
       "27265.21621186975"
      ]
     },
     "execution_count": 30,
     "metadata": {},
     "output_type": "execute_result"
    }
   ],
   "source": [
    "doc_preprocessing(doc).sum()"
   ]
  },
  {
   "cell_type": "code",
   "execution_count": 33,
   "metadata": {},
   "outputs": [],
   "source": [
    "adj_matrix = np.loadtxt(input_path + 'doc_doc_adjacency_matrix.txt')"
   ]
  },
  {
   "cell_type": "code",
   "execution_count": 34,
   "metadata": {},
   "outputs": [
    {
     "data": {
      "text/plain": [
       "array([[0., 1., 1., ..., 1., 1., 0.],\n",
       "       [1., 0., 1., ..., 1., 1., 0.],\n",
       "       [1., 1., 0., ..., 1., 1., 0.],\n",
       "       ...,\n",
       "       [1., 1., 1., ..., 0., 1., 0.],\n",
       "       [1., 1., 1., ..., 1., 0., 1.],\n",
       "       [0., 0., 0., ..., 0., 1., 0.]])"
      ]
     },
     "execution_count": 34,
     "metadata": {},
     "output_type": "execute_result"
    }
   ],
   "source": [
    "adj_matrix"
   ]
  },
  {
   "cell_type": "code",
   "execution_count": 36,
   "metadata": {},
   "outputs": [
    {
     "data": {
      "text/plain": [
       "array([[1., 1., 1., ..., 1., 1., 0.],\n",
       "       [1., 1., 1., ..., 1., 1., 0.],\n",
       "       [1., 1., 1., ..., 1., 1., 0.],\n",
       "       ...,\n",
       "       [1., 1., 1., ..., 1., 1., 0.],\n",
       "       [1., 1., 1., ..., 1., 1., 1.],\n",
       "       [0., 0., 0., ..., 0., 1., 1.]])"
      ]
     },
     "execution_count": 36,
     "metadata": {},
     "output_type": "execute_result"
    }
   ],
   "source": [
    "adj_matrix = generate_symmetric_adjacency_matrix(adj_matrix) # add self connections\n",
    "adj_matrix"
   ]
  },
  {
   "cell_type": "code",
   "execution_count": 38,
   "metadata": {},
   "outputs": [
    {
     "data": {
      "text/plain": [
       "array([[0.00038986, 0.00038494, 0.00039002, ..., 0.00038994, 0.00038858,\n",
       "        0.        ],\n",
       "       [0.00038494, 0.00038008, 0.00038509, ..., 0.00038502, 0.00038367,\n",
       "        0.        ],\n",
       "       [0.00039002, 0.00038509, 0.00039017, ..., 0.00039009, 0.00038873,\n",
       "        0.        ],\n",
       "       ...,\n",
       "       [0.00038994, 0.00038502, 0.00039009, ..., 0.00039002, 0.00038865,\n",
       "        0.        ],\n",
       "       [0.00038858, 0.00038367, 0.00038873, ..., 0.00038865, 0.0003873 ,\n",
       "        0.0014093 ],\n",
       "       [0.        , 0.        , 0.        , ..., 0.        , 0.0014093 ,\n",
       "        0.00512821]])"
      ]
     },
     "execution_count": 38,
     "metadata": {},
     "output_type": "execute_result"
    }
   ],
   "source": [
    "normalize_adj(adj_matrix)"
   ]
  },
  {
   "cell_type": "code",
   "execution_count": null,
   "metadata": {},
   "outputs": [],
   "source": [
    "sgc_precompute"
   ]
  },
  {
   "cell_type": "code",
   "execution_count": 37,
   "metadata": {},
   "outputs": [],
   "source": [
    "import os\n",
    "import random\n",
    "import numpy as np\n",
    "import pickle as pkl\n",
    "import scipy.sparse as sp\n",
    "from math import log\n",
    "from sklearn import svm\n",
    "from nltk.corpus import wordnet as wn\n",
    "from sklearn.feature_extraction.text import TfidfVectorizer\n",
    "import sys\n",
    "from scipy.spatial.distance import cosine\n",
    "from data_preparation import *"
   ]
  },
  {
   "cell_type": "code",
   "execution_count": 4,
   "metadata": {},
   "outputs": [],
   "source": [
    "def loadWord2Vec(filename):\n",
    "    \"\"\"Read Word Vectors\"\"\"\n",
    "    #vocab = []\n",
    "    #embd = []\n",
    "    word_vector_map = {}\n",
    "    file = open(filename, 'r', encoding=\"utf8\")\n",
    "    for line in file.readlines():\n",
    "        row = line.strip().split(' ')\n",
    "        if (len(row) > 2):\n",
    "            #vocab.append(row[0])\n",
    "            vector = row[1:]\n",
    "            length = len(vector)\n",
    "            for i in range(length):\n",
    "                vector[i] = float(vector[i])\n",
    "            #embd.append(vector)\n",
    "            word_vector_map[row[0]] = vector\n",
    "    print('Loaded Word Vectors!')\n",
    "    file.close()\n",
    "    return word_vector_map"
   ]
  },
  {
   "cell_type": "markdown",
   "metadata": {},
   "source": [
    "What is GloVe? (\"what is glove.6B.300d.txt1 / 1\" prompt. ChatGPT, August 3 Version, OpenAI, 25 Sept. 2023. https://chat.openai.com.)\n",
    "- \"glove.6B.300d.txt\" is a file that is typically associated with the GloVe (Global Vectors for Word Representation) word embedding model. GloVe is a popular technique for representing words as dense vectors in a continuous vector space. These word vectors are trained on large text corpora and capture semantic relationships between words.\n",
    "- The file \"glove.6B.300d.txt\" specifically refers to a pre-trained GloVe model with 300-dimensional word vectors. In this file, each line typically represents a word followed by its corresponding 300-dimensional vector, all separated by spaces. These vectors are generated through unsupervised learning techniques and can be used for various natural language processing tasks, such as text classification, sentiment analysis, machine translation, and more.\n",
    "- Researchers and developers often use pre-trained GloVe word embeddings like \"glove.6B.300d.txt\" to improve the performance of their natural language processing models, as these embeddings can capture semantic information about words and their relationships in a way that is beneficial for various text-based tasks."
   ]
  },
  {
   "cell_type": "code",
   "execution_count": 5,
   "metadata": {},
   "outputs": [
    {
     "name": "stdout",
     "output_type": "stream",
     "text": [
      "Loaded Word Vectors!\n"
     ]
    }
   ],
   "source": [
    "# load GloVe word vector into memory\n",
    "word_vector_file = './cora/glove.6B.300d.txt'\n",
    "word_vector_map = loadWord2Vec(word_vector_file)"
   ]
  },
  {
   "cell_type": "code",
   "execution_count": 14,
   "metadata": {},
   "outputs": [],
   "source": [
    "# get the word embedding for each token in the vocabulary\n",
    "word_embedding = []\n",
    "dataset_name = \"pl\"\n",
    "voc = np.genfromtxt('./cora/' + dataset_name + '/voc.txt', dtype=str)\n",
    "num_tokens = len(voc)\n",
    "for i in range(num_tokens):\n",
    "    if voc[i] in word_vector_map:\n",
    "        word_embedding.append(word_vector_map[voc[i]])\n",
    "    else:\n",
    "        word_embedding.append(np.zeros(300))"
   ]
  },
  {
   "cell_type": "code",
   "execution_count": 18,
   "metadata": {},
   "outputs": [],
   "source": [
    "# get a list of word positions within the window size\n",
    "window_size = 20\n",
    "windows = [] \n",
    "doc = np.loadtxt('./cora/' + dataset_name + '/content.txt')\n",
    "for d in doc:\n",
    "    word = []\n",
    "    for i, w in enumerate(d):\n",
    "        if 0 < w:\n",
    "            word.append(i)\n",
    "    length = len(word)\n",
    "    if length < window_size:\n",
    "        windows.append(word)\n",
    "    else:\n",
    "        for j in range(length - window_size + 1):\n",
    "            window = word[j: j + window_size]\n",
    "            windows.append(window)"
   ]
  },
  {
   "cell_type": "code",
   "execution_count": 23,
   "metadata": {},
   "outputs": [],
   "source": [
    "# get the word frequency over all word window lists\n",
    "word_window_freq = {}\n",
    "for window in windows:\n",
    "    appeared = set()\n",
    "    for i in range(len(window)):\n",
    "        if window[i] in appeared:\n",
    "            continue\n",
    "        if window[i] in word_window_freq:\n",
    "            word_window_freq[window[i]] += 1\n",
    "        else:\n",
    "            word_window_freq[window[i]] = 1\n",
    "        appeared.add(window[i])\n",
    "    "
   ]
  },
  {
   "cell_type": "code",
   "execution_count": 25,
   "metadata": {},
   "outputs": [],
   "source": [
    "# get word co-occurrence count in all word windows\n",
    "word_pair_count = {}\n",
    "for window in windows:\n",
    "    for i in range(1, len(window)):\n",
    "        for j in range(0, i):\n",
    "            word_i_id = window[i]\n",
    "            word_j_id = window[j]\n",
    "            if word_i_id == word_j_id:\n",
    "                continue\n",
    "            word_pair_str = str(word_i_id) + ',' + str(word_j_id)\n",
    "            if word_pair_str in word_pair_count:\n",
    "                word_pair_count[word_pair_str] += 1\n",
    "            else:\n",
    "                word_pair_count[word_pair_str] = 1\n",
    "            # two orders\n",
    "            word_pair_str = str(word_j_id) + ',' + str(word_i_id)\n",
    "            if word_pair_str in word_pair_count:\n",
    "                word_pair_count[word_pair_str] += 1\n",
    "            else:\n",
    "                word_pair_count[word_pair_str] = 1"
   ]
  },
  {
   "cell_type": "code",
   "execution_count": 30,
   "metadata": {},
   "outputs": [],
   "source": [
    "# compute PPMI (Pointwise Mutual Information)\n",
    "row = []\n",
    "col = []\n",
    "weight = []\n",
    "num_window = len(windows)\n",
    "for key in word_pair_count:\n",
    "    temp = key.split(',')\n",
    "    i = int(temp[0])\n",
    "    j = int(temp[1])\n",
    "    count = word_pair_count[key] # co-occurence count \n",
    "    word_freq_i = word_window_freq[i] # individual word frequency over all word windows \n",
    "    word_freq_j = word_window_freq[j]\n",
    "    pmi = np.log((1.0 * count / num_window) /\n",
    "              (1.0 * word_freq_i * word_freq_j/(num_window * num_window)))\n",
    "    if pmi <= 0:\n",
    "        continue\n",
    "    row.append(i)\n",
    "    col.append(j)\n",
    "    weight.append(pmi)"
   ]
  },
  {
   "cell_type": "code",
   "execution_count": 48,
   "metadata": {},
   "outputs": [],
   "source": [
    "adj = sp.csr_matrix(\n",
    "    (weight, (row, col)), shape=(num_tokens, num_tokens))\n",
    "f = open(\"./cora/ind.test.ppmi\".format(dataset_name), 'wb')\n",
    "pkl.dump(adj, f)"
   ]
  },
  {
   "cell_type": "code",
   "execution_count": 68,
   "metadata": {},
   "outputs": [],
   "source": [
    "with open(\"./cora/ind.test.ppmi\", 'rb') as f:\n",
    "    pmi = pkl.load(f)\n",
    "    pmi = normalize_adj(pmi.toarray())"
   ]
  },
  {
   "cell_type": "code",
   "execution_count": 69,
   "metadata": {},
   "outputs": [
    {
     "data": {
      "text/plain": [
       "array([[0.        , 0.0125059 , 0.01123539, ..., 0.        , 0.        ,\n",
       "        0.        ],\n",
       "       [0.0125059 , 0.        , 0.01159017, ..., 0.        , 0.        ,\n",
       "        0.        ],\n",
       "       [0.01123539, 0.01159017, 0.        , ..., 0.        , 0.        ,\n",
       "        0.        ],\n",
       "       ...,\n",
       "       [0.        , 0.        , 0.        , ..., 0.        , 0.        ,\n",
       "        0.        ],\n",
       "       [0.        , 0.        , 0.        , ..., 0.        , 0.        ,\n",
       "        0.        ],\n",
       "       [0.        , 0.        , 0.        , ..., 0.        , 0.        ,\n",
       "        0.        ]])"
      ]
     },
     "execution_count": 69,
     "metadata": {},
     "output_type": "execute_result"
    }
   ],
   "source": [
    "pmi"
   ]
  },
  {
   "cell_type": "code",
   "execution_count": 17,
   "metadata": {},
   "outputs": [],
   "source": [
    "# from matplotlib.backends.backend_pdf import PdfPages\n",
    "# from sklearn.manifold import TSNE\n",
    "# from matplotlib import pyplot as plt\n",
    "import numpy as np\n",
    "# import pickle as pkl\n",
    "# import random\n",
    "# f = open('results/transductive/ml_64_test_vocenc.txt', 'r')\n",
    "f = open('results/64_test_voc.txt', 'r')\n",
    "embedding_lines = f.readlines()\n",
    "f.close()\n",
    "voc = np.genfromtxt('../../../Datasets/model_input_data/vocab.txt', dtype=str)\n",
    "#with open(\"data/ind.20ng.adj\", 'rb') as f:\n",
    "#    npmi = pkl.load(f)\n",
    "#npmi = npmi.toarray()\n",
    "docs = []\n",
    "vocab = {}\n",
    "for i in range(len(voc)):\n",
    "    vocab[voc[i]] = i"
   ]
  },
  {
   "cell_type": "code",
   "execution_count": 18,
   "metadata": {},
   "outputs": [],
   "source": [
    "for i in range(len(embedding_lines)):\n",
    "    #line = embedding_lines[i].strip()\n",
    "    #temp = line.split('\\t')\n",
    "    emb_str = embedding_lines[i].strip().split()\n",
    "    values = [float(x) for x in emb_str]\n",
    "    #label = np.argmax(values)\n",
    "    docs.append(values)\n",
    "docs = np.array(docs)\n",
    "emb = np.array(list(zip(*docs)))"
   ]
  },
  {
   "cell_type": "code",
   "execution_count": 30,
   "metadata": {},
   "outputs": [
    {
     "name": "stdout",
     "output_type": "stream",
     "text": [
      "Topic #1: hydrogen energy fuel powered green new power electric cell world\n",
      "Topic #2: hydrogenhighway hydrogenics pink showing landing contact otc honeywell eni photocatalytic\n",
      "Topic #3: thanks scientists truck tech powered renewables power produce latest cells\n",
      "Topic #4: hydrogen green energy fuel future production new powered technology power\n",
      "Topic #5: hydrogen fuel energy green cell powered future new power news\n",
      "Topic #6: worldsmileday alvera cec walmart mauritania expressions isee leaving dust lineup\n",
      "Topic #7: hydrogen energy fuel green powered power new cell toyota future\n",
      "Topic #8: sinot centralized consultation industrialise bow futureof billybo cleanenergynow cons energymonitorai\n",
      "Topic #9: scotlands susty eclipse newswise profiles pee bow advise regulatory metallize\n",
      "Topic #10: energy hydrogen fuel powered future green new news cell production\n",
      "Topic #11: bello laurencereed bankofamerica gadget reefs studio gestures intros dianapitchers tie\n",
      "Topic #12: intensification bdew alvera lavergne effectively anglian windcat stocktwits capturing healthmedicine\n",
      "Topic #13: hydrogen fuel energy cell powered green new toyota car power\n",
      "Topic #14: energy hydrogen fuel powered cell power new green renewable clean\n",
      "Topic #15: headlamps joining iot fan hydrogencars mauritania token revenge whitehall grille\n",
      "Topic #16: hyundai economy partnership boost audi alternative news daily power energy\n",
      "Topic #17: pressure hydrogenhighway final ahead site director mobile operation multi minister\n",
      "Topic #18: exittocommunity telecom rockets pinterest stationarypower othertech towers cea starex formation\n",
      "Topic #19: hydrogen energy powered carbon fuel cell plan market news vehicle\n",
      "Topic #20: world cells toyota industry car video retailoutlets air petroforumus produce\n",
      "Topic #21: lavergne registering frankbuckleytv remarks occasion gck worldyouthskillsday rank youth tsxv\n",
      "Topic #22: green hydrogen car fuel energy powered cell technology gas new\n",
      "Topic #23: hydrogen energy powered future green fuel power cell thanks new\n",
      "Topic #24: erneuerbareehh plunging david metropolis organize oilfieldservices refineries assets moderngreen usb\n",
      "Topic #25: connor campolindohs agateproject newstoday greeneconomy bootha opener cons del waterbut\n",
      "Topic #26: discoveries estate llc schedule forzedelft fan ownership optimisedr fulcrum employee\n",
      "Topic #27: cinea tune bermingham barrow newstoday mwe andmore agl zhongtong vinssen\n",
      "Topic #28: hydrogen fuel energy cell powered green future new cars electric\n",
      "Topic #29: hydrogenhighway cooperation initiatives ahead site final term pressure mobile pink\n",
      "Topic #30: unpredictable monoxide lrgp youth metallichydrogen renewablenergy asking prediction staked rsquo\n",
      "Topic #31: hydrogenhighway mobile multi director site register cooperation exciting minister lot\n",
      "Topic #32: francediplo eni algeria petroleummin myfcpower gomberg pci billjohnstonmla sonatrach petrolpumps\n",
      "Topic #33: chemicalengineering frontier aglaustralia cma image futurelink asx yaris fresno unleash\n",
      "Topic #34: stone anossaiberdrola worldh eurecmasters rent mottmacdonald sharemarkets ssrn eox tradingnews\n",
      "Topic #35: weflive metallize draw popmech combusting bacteria brainer huyndai anniversary showcase\n",
      "Topic #36: tfw petroleummin venice trac congo cleanergy gigantic ampion formic aina\n",
      "Topic #37: reviving metallize tcenergy weflive popmech brainer anniversary huyndai approximately altfuel\n",
      "Topic #38: energy hydrogen green fuel powered future clean climate cell power\n",
      "Topic #39: energy fuel cell hydrogen future new powered gas production market\n",
      "Topic #40: energy hydrogen fuel powered green new gas clean cell future\n",
      "Topic #41: lag taught motorhappy olympics forecasting mauritania jeremy advisor telnes petroforum\n",
      "Topic #42: energy hydrogen gas powered cell green fuel renewable production new\n",
      "Topic #43: hydrogen fuel energy cell green powered future new cars toyota\n",
      "Topic #44: hydrogen energy fuel green powered new cell future power cars\n",
      "Topic #45: hydrogen fuel energy powered green cell new future power toyota\n",
      "Topic #46: super automotive let splitting ces hold friendly information design sell\n",
      "Topic #47: hydrogen fuel energy powered green power cell new future electric\n",
      "Topic #48: hydrogenhighway eni exciting got cooperation pressure group retrofit hydroflex mobile\n",
      "Topic #49: otc face employee hydrogencars eni cliches boston decentralized token hydrogenics\n",
      "Topic #50: hydrogen fuel energy green powered cell new future power gas\n",
      "Topic #51: zeroavias aldag angloamericancl simonahac weflive bumpy metallize advertise terrific vinssen\n",
      "Topic #52: greenhydrogen hydrogenhighway global latest solar project transport clean renewable renewableenergy\n",
      "Topic #53: pee bevs metallize way worlds year vehicle zero water world\n",
      "Topic #54: youth trialling cares texthtml deccgovuk winter circuit explosion admits lawbc\n",
      "Topic #55: steelus hydrogel comwatch dominates steelrussia enagas extraction energyartlv token triple\n",
      "Topic #56: energy hydrogen fuel cell green powered future new power electric\n",
      "Topic #57: aldautomotivebe sunderland collapsed ceftransport cinea consiglio dats lawbc haasrode focal\n",
      "Topic #58: wirelessstechnology rajantcorp face boillotlionel expresses lisamurkowski glowering shoreham haulage urbino\n",
      "Topic #59: hydrogen energy fuel powered cell green new future production toyota\n",
      "Topic #60: hydrogen fuel energy green new cell future powered power cars\n",
      "Topic #61: pink contact crisis hydrogenics showing snam hydrogenhighway photocatalytic landing embrace\n",
      "Topic #62: world technology use powered water wind storage tech cleanenergy industry\n",
      "Topic #63: hyseasiii tsxv petroforum cherokee average abbs abcthedrum astridniesse asian cleanenergynow\n",
      "Topic #64: microwave albertans clarkson tugboats det deliberate flagship energizes ontariocng dealership\n"
     ]
    }
   ],
   "source": [
    "\n",
    "def print_top_words(beta, feature_names, n_top_words=10):\n",
    "    #print('---------------Printing the Topics------------------')\n",
    "    coherence = []\n",
    "    for i in range(len(beta)):\n",
    "        topic_assoc = []\n",
    "        print(f'Topic #{i+1}: ' + \" \".join([feature_names[j]\n",
    "            for j in beta[i].argsort()[:-n_top_words - 1:-1]]))\n",
    "        word_id = beta[i].argsort()[:-n_top_words - 1:-1]\n",
    "    #     for j in range(0,19):\n",
    "    #        word_one = word_id[j]\n",
    "    #        for k in range(j+1,20):\n",
    "    #            word_two = word_id[k]\n",
    "    #             topic_assoc.append(npmi[word_one,word_two])\n",
    "    #     topic_coh = float(sum(topic_assoc)) / len(topic_assoc)\n",
    "    #     coherence.append(topic_coh)\n",
    "    #     print('coherence:',topic_coh)\n",
    "    # print('---------------End of Topics------------------')\n",
    "    #return coherence\n",
    "# for i in range(len(embedding_lines)):\n",
    "#     #line = embedding_lines[i].strip()\n",
    "#     #temp = line.split('\\t')\n",
    "#     emb_str = embedding_lines[i].strip().split()\n",
    "#     values = [float(x) for x in emb_str]\n",
    "#     #label = np.argmax(values)\n",
    "#     docs.append(values)\n",
    "# docs = np.array(docs)\n",
    "# emb = np.array(list(zip(*docs)))\n",
    "#coherence = \\\n",
    "print_top_words(emb, list(zip(*sorted(vocab.items(), key=lambda x: x[1])))[0])\n",
    "#print('mean_coherence:', float(sum(coherence)) / len(coherence))"
   ]
  },
  {
   "cell_type": "code",
   "execution_count": 54,
   "metadata": {},
   "outputs": [],
   "source": [
    "# from matplotlib.backends.backend_pdf import PdfPages\n",
    "from sklearn.manifold import TSNE\n",
    "from matplotlib import pyplot as plt\n",
    "import numpy as np\n",
    "\n",
    "# label = np.loadtxt('./cora/' + 'ml' + '/label.txt')\n",
    "f0 = open('results/64_training.txt', 'r')\n",
    "# f0 = open('results/64_test.txt', 'r')\n",
    "t_embedding_lines = f0.readlines()\n",
    "f0.close()\n",
    "\n",
    "#label_test = label[int(num_doc * (training_ratio + validation_ratio)):]\n",
    "# labels = []\n",
    "docs = []\n",
    "for i in range(len(t_embedding_lines)):\n",
    "    # labels.append(label[i])\n",
    "    emb_str = t_embedding_lines[i].strip().split()\n",
    "    #values_str_list = emb_str[1:]\n",
    "    values = [float(x) for x in emb_str]\n",
    "    docs.append(values)\n",
    "fea = TSNE(n_components=2).fit_transform(docs)\n",
    "# pdf = PdfPages('ml_doc_test.pdf')\n",
    "# cls = np.unique(label)\n",
    "# label = labels\n",
    "# fea_num = [fea[label == i] for i in cls]\n",
    "# for i, f in enumerate(fea_num):\n",
    "#     if cls[i] in range(10):\n",
    "#         plt.scatter(f[:, 0], f[:, 1], label=cls[i],marker = '.')\n",
    "#     else:\n",
    "#         plt.scatter(f[:, 0], f[:, 1], label=cls[i],marker = '.')\n",
    "# plt.tight_layout()\n",
    "# pdf.savefig()\n",
    "# plt.show()\n",
    "# pdf.close()"
   ]
  },
  {
   "cell_type": "code",
   "execution_count": 55,
   "metadata": {},
   "outputs": [
    {
     "data": {
      "text/plain": [
       "(1969, 2)"
      ]
     },
     "execution_count": 55,
     "metadata": {},
     "output_type": "execute_result"
    }
   ],
   "source": [
    "fea.shape"
   ]
  },
  {
   "cell_type": "code",
   "execution_count": 60,
   "metadata": {},
   "outputs": [
    {
     "data": {
      "image/png": "[encoded data removed]",
      "text/plain": [
       "<Figure size 504x576 with 1 Axes>"
      ]
     },
     "metadata": {
      "needs_background": "light"
     },
     "output_type": "display_data"
    }
   ],
   "source": [
    "import matplotlib.pyplot as plt\n",
    "import seaborn as sns\n",
    "\n",
    "# Assuming you have a 2-D embedding in the variable 'tsne_embedding' of shape (1969, 2)\n",
    "# Replace 'tsne_embedding' with your actual data\n",
    "\n",
    "# Create a scatter plot of the t-SNE embedding\n",
    "plt.figure(figsize=(7, 8))  # Adjust the figure size as needed\n",
    "plt.scatter(fea[:, 0], fea[:, 1], s=14, alpha=0.3, color='purple')  # 's' controls the marker size\n",
    "\n",
    "# Add labels and a title\n",
    "plt.xlabel('Component 1')\n",
    "plt.ylabel('Component 2')\n",
    "plt.title(f't-SNE Embedding - Training {fea.shape[0]} Samples')\n",
    "\n",
    "# Show the plot\n",
    "plt.show()"
   ]
  },
  {
   "cell_type": "code",
   "execution_count": null,
   "metadata": {},
   "outputs": [],
   "source": []
  },
  {
   "cell_type": "code",
   "execution_count": null,
   "metadata": {},
   "outputs": [],
   "source": []
  },
  {
   "cell_type": "code",
   "execution_count": null,
   "metadata": {},
   "outputs": [],
   "source": []
  },
  {
   "cell_type": "code",
   "execution_count": null,
   "metadata": {},
   "outputs": [],
   "source": []
  },
  {
   "cell_type": "markdown",
   "metadata": {},
   "source": [
    "#### Tensorboard - Original GTNN"
   ]
  },
  {
   "cell_type": "code",
   "execution_count": 1,
   "metadata": {},
   "outputs": [],
   "source": [
    "class GTM():\n",
    "    def __init__(self, args, data):\n",
    "\n",
    "        self.parse_args(args, data)\n",
    "        self.show_config()\n",
    "        self.generate_placeholders()\n",
    "        self.generate_variables()\n",
    "\n",
    "    def parse_args(self, args, data):\n",
    "\n",
    "        self.data = data\n",
    "        # self.dataset_name = args.dataset_name\n",
    "        self.num_doc = self.data.num_doc\n",
    "        # self.num_labels = int(max(self.data.label))\n",
    "        self.tokens = self.data.num_tokens\n",
    "\n",
    "        self.learning_rate = args.learning_rate\n",
    "        self.num_epoch = args.num_epoch\n",
    "        #self.trans_induc = args.trans_induc\n",
    "        #self.x = args.x\n",
    "        self.training_ratio = args.training_ratio\n",
    "        self.minibatch_size = args.minibatch_size\n",
    "        self.num_topics = args.num_topics\n",
    "        self.weight = args.weight\n",
    "\n",
    "    def show_config(self):\n",
    "\n",
    "        print('******************************************************')\n",
    "        # print('dataset name:', self.dataset_name)\n",
    "        print('#documents:', self.num_doc)\n",
    "        print('#tokens:', self.data.num_tokens)\n",
    "        # print('#labels:', self.num_labels)\n",
    "\n",
    "        print('learning rate:', self.learning_rate)\n",
    "        print('#epoch:', self.num_epoch)\n",
    "        print('training ratio:', self.training_ratio)\n",
    "        print('minibatch size:', self.minibatch_size)\n",
    "        print('#topics:', self.num_topics)\n",
    "        print('******************************************************')\n",
    "\n",
    "    def generate_placeholders(self):\n",
    "\n",
    "        self.doc = tf.placeholder('float64', [None, self.data.num_tokens])\n",
    "        self.doc_voc = tf.placeholder('float64', [None, self.data.num_tokens])\n",
    "        self.pmi = tf.placeholder('float64', [self.data.num_tokens,self.data.num_tokens])\n",
    "        \n",
    "        self.adj = tf.placeholder('float64', [None,self.data.num_doc])\n",
    "        #self.feature = tf.placeholder('float64', [None,self.data.num_voc])\n",
    "        self.sgc_pre_adj = tf.placeholder('float64', [None, self.data.num_tokens])\n",
    "\n",
    "    def generate_variables(self):\n",
    "\n",
    "        self.weights = {\n",
    "            'encoder_d': tf.Variable(tf.random_normal([self.data.num_tokens, self.num_topics], dtype='float64'), dtype='float64'),\n",
    "            'decoder_d': tf.Variable(tf.random_normal([self.data.num_doc, self.num_topics], dtype='float64'), dtype='float64'),\n",
    "            'encoder_v': tf.Variable(\n",
    "                tf.random_normal([self.data.num_tokens, self.num_topics], dtype='float64'),\n",
    "                dtype='float64'),\n",
    "            'inter_encoder_d': tf.Variable(tf.random_normal([self.data.num_tokens, self.num_topics], dtype='float64'),\n",
    "                                     dtype='float64'),\n",
    "            'inter_encoder_v': tf.Variable(\n",
    "                tf.random_normal([self.data.num_tokens, self.num_topics], dtype='float64'),\n",
    "                dtype='float64'),\n",
    "        }\n",
    "        self.biases = {\n",
    "            'encoder_b_d': tf.Variable(tf.random_normal([self.num_topics], dtype='float64'), dtype='float64'),\n",
    "            'encoder_b_v': tf.Variable(tf.random_normal([self.num_topics], dtype='float64'), dtype='float64'),\n",
    "            'inter_encoder_b_d': tf.Variable(tf.random_normal([self.num_topics], dtype='float64'), dtype='float64'),\n",
    "            'inter_encoder_b_v': tf.Variable(tf.random_normal([self.num_topics], dtype='float64'), dtype='float64'),\n",
    "            'decoder_b_d_v': tf.Variable(tf.random_normal([len(self.data.input_training[0])], dtype='float64'), dtype='float64'),\n",
    "            'decoder_b_v_v': tf.Variable(tf.random_normal([len(self.data.input_training[0])], dtype='float64'),\n",
    "                                         dtype='float64'),\n",
    "            'decoder_b_d_d': tf.Variable(tf.random_normal([self.data.num_doc], dtype='float64'),\n",
    "                                         dtype='float64')\n",
    "        }\n",
    "\n",
    "    def encoder(self):\n",
    "        # weight for message passing\n",
    "        intra_doc_feature = tf.nn.tanh(tf.add(self.weights['encoder_d'], self.biases['encoder_b_d']))\n",
    "        intra_voc_feature = tf.nn.tanh(tf.add(self.weights['encoder_v'], self.biases['encoder_b_v']))\n",
    "        inter_doc_feature = tf.nn.tanh(tf.add(tf.matmul(self.doc,self.weights['inter_encoder_d']), self.biases['inter_encoder_b_d']))\n",
    "        inter_voc_feature = tf.nn.tanh(tf.add(self.weights['inter_encoder_v'], self.biases['inter_encoder_b_v']))\n",
    "        # intra-domain message passing\n",
    "        intra_doc_embedding = tf.nn.tanh(tf.matmul(self.sgc_pre_adj, intra_doc_feature))\n",
    "        intra_voc_embedding = tf.nn.tanh(tf.matmul(self.pmi, intra_voc_feature))\n",
    "        # inter-domain message passing\n",
    "        inter_doc_embedding = tf.nn.tanh(tf.matmul(self.doc_voc, inter_voc_feature))\n",
    "        inter_voc_embedding = tf.nn.tanh(tf.matmul(tf.transpose(self.doc_voc, perm=[1, 0]), inter_doc_feature))\n",
    "\n",
    "        self.doc_embed = intra_doc_embedding + inter_doc_embedding\n",
    "        self.voc_embed = intra_voc_embedding + inter_voc_embedding\n",
    "\n",
    "        return self.doc_embed, self.voc_embed\n",
    "\n",
    "    def decoder(self):\n",
    "        r_doc_voc = tf.add(tf.matmul(self.doc_embed, tf.transpose(self.voc_embed)), self.biases['decoder_b_d_v'])\n",
    "        r_doc_doc = tf.add(tf.matmul(self.doc_embed, tf.transpose(self.weights['decoder_d'])),self.biases['decoder_b_d_d'])\n",
    "        r_voc_voc = tf.add(tf.matmul(self.voc_embed, tf.transpose(self.weights['encoder_v'])), self.biases['decoder_b_v_v'])\n",
    "        dv_loss = tf.reduce_mean(tf.nn.sigmoid_cross_entropy_with_logits(logits=r_doc_voc, labels=self.doc_voc))\n",
    "        dd_loss = tf.reduce_mean(tf.nn.sigmoid_cross_entropy_with_logits(logits=r_doc_doc, labels=self.adj))\n",
    "        vv_loss = tf.reduce_mean(tf.nn.sigmoid_cross_entropy_with_logits(logits=r_voc_voc, labels=self.pmi))\n",
    "        loss = self.weight*dv_loss + dd_loss + vv_loss\n",
    "        return loss, dv_loss, dd_loss, vv_loss\n",
    "\n",
    "    def construct_model(self):\n",
    "        self.encoder()\n",
    "        loss, dv_loss, dd_loss, vv_loss = self.decoder()\n",
    "\n",
    "        return loss, dv_loss, dd_loss, vv_loss\n",
    "\n",
    "    def train(self):\n",
    "\n",
    "        loss, dv_loss, dd_loss, vv_loss= self.construct_model()\n",
    "        optimizer = tf.train.AdamOptimizer(self.learning_rate).minimize(loss)\n",
    "        init = tf.global_variables_initializer()\n",
    "        with tf.Session() as sess:\n",
    "            sess.run(init)\n",
    "            t = time.time()\n",
    "            # best_acc = 0.0\n",
    "            # best_nmi = 0.0\n",
    "            for epoch_index in range(1, self.num_epoch + 1):\n",
    "                _, one_epoch_loss,o_dv_loss, o_dd_loss, o_vv_loss = sess.run([optimizer, loss, dv_loss, dd_loss, vv_loss], feed_dict={\n",
    "                                                                           self.doc: self.data.input_training,\n",
    "                                                                           self.doc_voc: self.data.adj_feature_training,\n",
    "                                                                           self.sgc_pre_adj:self.data.adj_input_training,\n",
    "                                                                           self.pmi:self.data.pmi,\n",
    "                                                                           self.adj:self.data.adj_training})\n",
    "                if epoch_index % 50 == 0 or epoch_index == 1:\n",
    "                    print('******************************************************')\n",
    "                    print('Time: %ds' % (time.time() - t), '\\tEpoch: %d/%d' % (epoch_index, self.num_epoch), '\\tLoss: %f' % one_epoch_loss,\n",
    "                          '\\tdv_Loss: %f' % o_dv_loss, '\\tdd_Loss: %f' % o_dd_loss, '\\tvv_Loss: %f' % o_vv_loss)\n",
    "\n",
    "                    doc_embed_training = sess.run(self.doc_embed, feed_dict={self.doc: self.data.input_training, self.doc_voc: self.data.adj_feature_training,\n",
    "                                                                       self.pmi:self.data.pmi, self.sgc_pre_adj:self.data.adj_input_training})\n",
    "                    doc_embed_test = sess.run(self.doc_embed, feed_dict={self.doc: self.data.input_test, self.doc_voc: self.data.adj_feature_test,\n",
    "                                                                       self.pmi:self.data.pmi, self.sgc_pre_adj:self.data.adj_input_test})\n",
    "\n",
    "\n",
    "                    # acc = classification_knn('inductive', X_train=doc_embed_training, X_test=doc_embed_test, Y_train=self.data.label_training, Y_test=self.data.label_test)\n",
    "                    # nmi = clustering_kmeans('inductive', X_train=doc_embed_training, X_test=doc_embed_test, Y_train=self.data.label_training, Y_test=self.data.label_test)\n",
    "                    # if best_acc < acc and best_nmi < nmi:\n",
    "                    #     best_acc = acc\n",
    "                    #     best_nmi = nmi\n",
    "                    #     print('best_acc_nmi:', best_acc, best_nmi)\n",
    "                    voc_embed_test = sess.run(self.voc_embed,\n",
    "                                                feed_dict={self.doc: self.data.input_test,\n",
    "                                                            self.doc_voc: self.data.adj_feature_test,\n",
    "                                                            self.pmi: self.data.pmi, self.sgc_pre_adj: self.data.adj_input_test})\n",
    "                    #x = '' if self.x == 0 else '_x'\n",
    "                    np.savetxt('./results/' + str(self.num_topics) + '_training' + '.txt', doc_embed_training, delimiter='\\t')\n",
    "                    np.savetxt('./results/' + str(self.num_topics) + '_test' + '.txt', doc_embed_test, delimiter='\\t')\n",
    "                    np.savetxt('./results/' + str(self.num_topics) + '_test_voc' + '.txt', voc_embed_test, delimiter='\\t')\n",
    "            print('Finish training! Training time:', time.time() - t)\n",
    "\n",
    "            print('Finish saving embeddings!')\n"
   ]
  },
  {
   "cell_type": "code",
   "execution_count": 2,
   "metadata": {},
   "outputs": [
    {
     "name": "stdout",
     "output_type": "stream",
     "text": [
      "The tensorboard module is not an IPython extension.\n"
     ]
    }
   ],
   "source": [
    "# Load the TensorBoard notebook extension\n",
    "%load_ext tensorboard"
   ]
  },
  {
   "cell_type": "code",
   "execution_count": 3,
   "metadata": {},
   "outputs": [
    {
     "name": "stderr",
     "output_type": "stream",
     "text": [
      "c:\\Users\\tiffa\\anaconda3\\envs\\research\\lib\\site-packages\\tensorflow\\python\\framework\\dtypes.py:523: FutureWarning: Passing (type, 1) or '1type' as a synonym of type is deprecated; in a future version of numpy, it will be understood as (type, (1,)) / '(1,)type'.\n",
      "  _np_qint8 = np.dtype([(\"qint8\", np.int8, 1)])\n",
      "c:\\Users\\tiffa\\anaconda3\\envs\\research\\lib\\site-packages\\tensorflow\\python\\framework\\dtypes.py:524: FutureWarning: Passing (type, 1) or '1type' as a synonym of type is deprecated; in a future version of numpy, it will be understood as (type, (1,)) / '(1,)type'.\n",
      "  _np_quint8 = np.dtype([(\"quint8\", np.uint8, 1)])\n",
      "c:\\Users\\tiffa\\anaconda3\\envs\\research\\lib\\site-packages\\tensorflow\\python\\framework\\dtypes.py:525: FutureWarning: Passing (type, 1) or '1type' as a synonym of type is deprecated; in a future version of numpy, it will be understood as (type, (1,)) / '(1,)type'.\n",
      "  _np_qint16 = np.dtype([(\"qint16\", np.int16, 1)])\n",
      "c:\\Users\\tiffa\\anaconda3\\envs\\research\\lib\\site-packages\\tensorflow\\python\\framework\\dtypes.py:526: FutureWarning: Passing (type, 1) or '1type' as a synonym of type is deprecated; in a future version of numpy, it will be understood as (type, (1,)) / '(1,)type'.\n",
      "  _np_quint16 = np.dtype([(\"quint16\", np.uint16, 1)])\n",
      "c:\\Users\\tiffa\\anaconda3\\envs\\research\\lib\\site-packages\\tensorflow\\python\\framework\\dtypes.py:527: FutureWarning: Passing (type, 1) or '1type' as a synonym of type is deprecated; in a future version of numpy, it will be understood as (type, (1,)) / '(1,)type'.\n",
      "  _np_qint32 = np.dtype([(\"qint32\", np.int32, 1)])\n",
      "c:\\Users\\tiffa\\anaconda3\\envs\\research\\lib\\site-packages\\tensorflow\\python\\framework\\dtypes.py:532: FutureWarning: Passing (type, 1) or '1type' as a synonym of type is deprecated; in a future version of numpy, it will be understood as (type, (1,)) / '(1,)type'.\n",
      "  np_resource = np.dtype([(\"resource\", np.ubyte, 1)])\n"
     ]
    }
   ],
   "source": [
    "import tensorflow as tf"
   ]
  },
  {
   "cell_type": "code",
   "execution_count": 6,
   "metadata": {},
   "outputs": [
    {
     "ename": "AttributeError",
     "evalue": "'Tensor' object has no attribute 'print'",
     "output_type": "error",
     "traceback": [
      "\u001b[1;31m---------------------------------------------------------------------------\u001b[0m",
      "\u001b[1;31mAttributeError\u001b[0m                            Traceback (most recent call last)",
      "\u001b[1;32m<ipython-input-6-bc28b114b245>\u001b[0m in \u001b[0;36m<module>\u001b[1;34m\u001b[0m\n\u001b[1;32m----> 1\u001b[1;33m \u001b[0mtf\u001b[0m\u001b[1;33m.\u001b[0m\u001b[0madd\u001b[0m\u001b[1;33m(\u001b[0m\u001b[1;33m[\u001b[0m\u001b[1;33m[\u001b[0m\u001b[1;36m1\u001b[0m\u001b[1;33m,\u001b[0m\u001b[1;36m2\u001b[0m\u001b[1;33m,\u001b[0m\u001b[1;36m3\u001b[0m\u001b[1;33m]\u001b[0m\u001b[1;33m,\u001b[0m \u001b[1;33m[\u001b[0m\u001b[1;36m1\u001b[0m\u001b[1;33m,\u001b[0m\u001b[1;36m2\u001b[0m\u001b[1;33m,\u001b[0m\u001b[1;36m3\u001b[0m\u001b[1;33m]\u001b[0m\u001b[1;33m,\u001b[0m \u001b[1;33m[\u001b[0m\u001b[1;36m1\u001b[0m\u001b[1;33m,\u001b[0m\u001b[1;36m2\u001b[0m\u001b[1;33m,\u001b[0m\u001b[1;36m3\u001b[0m\u001b[1;33m]\u001b[0m\u001b[1;33m]\u001b[0m\u001b[1;33m,\u001b[0m \u001b[1;33m[\u001b[0m\u001b[1;36m3\u001b[0m\u001b[1;33m,\u001b[0m\u001b[1;36m3\u001b[0m\u001b[1;33m,\u001b[0m\u001b[1;36m3\u001b[0m\u001b[1;33m]\u001b[0m\u001b[1;33m)\u001b[0m\u001b[1;33m.\u001b[0m\u001b[0mprint\u001b[0m\u001b[1;33m(\u001b[0m\u001b[1;33m)\u001b[0m\u001b[1;33m\u001b[0m\u001b[1;33m\u001b[0m\u001b[0m\n\u001b[0m",
      "\u001b[1;31mAttributeError\u001b[0m: 'Tensor' object has no attribute 'print'"
     ]
    }
   ],
   "source": [
    "tf.add([[1,2,3], [1,2,3], [1,2,3]], [3,3,3]).print()"
   ]
  },
  {
   "cell_type": "code",
   "execution_count": 10,
   "metadata": {},
   "outputs": [],
   "source": [
    "arr1 = [[10, 20, 30, 40, 50],[10, 20, 30, 40, 50],[10, 20, 30, 40, 50]]\n",
    "arr2 = [5, 10, 15, 20, 25]"
   ]
  },
  {
   "cell_type": "code",
   "execution_count": 19,
   "metadata": {},
   "outputs": [
    {
     "data": {
      "text/plain": [
       "<tf.Tensor 'Add_7:0' shape=(2, 3) dtype=float32>"
      ]
     },
     "execution_count": 19,
     "metadata": {},
     "output_type": "execute_result"
    }
   ],
   "source": [
    "input_shape = [2, 3]\n",
    "input_shape2 = [3]\n",
    "x1 = tf.random_normal(input_shape)\n",
    "x2 = tf.random_normal(input_shape2)\n",
    "y = tf.add(x1, x2)\n",
    "y"
   ]
  },
  {
   "cell_type": "code",
   "execution_count": null,
   "metadata": {},
   "outputs": [],
   "source": []
  }
 ],
 "metadata": {
  "kernelspec": {
   "display_name": "research",
   "language": "python",
   "name": "python3"
  },
  "language_info": {
   "codemirror_mode": {
    "name": "ipython",
    "version": 3
   },
   "file_extension": ".py",
   "mimetype": "text/x-python",
   "name": "python",
   "nbconvert_exporter": "python",
   "pygments_lexer": "ipython3",
   "version": "3.6.13"
  },
  "orig_nbformat": 4
 },
 "nbformat": 4,
 "nbformat_minor": 2
}
